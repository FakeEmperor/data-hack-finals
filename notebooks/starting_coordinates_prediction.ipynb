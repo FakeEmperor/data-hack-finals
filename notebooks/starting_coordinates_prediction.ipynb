{
 "cells": [
  {
   "cell_type": "code",
   "execution_count": 5,
   "metadata": {},
   "outputs": [],
   "source": [
    "%load_ext autoreload\n",
    "%autoreload 2\n",
    "\n",
    "import sys\n",
    "sys.path.append('..')\n",
    "import pandas as pd\n",
    "import dno.proto.mock as mock\n",
    "import dno.proto.utils as utils\n",
    "import numpy as np\n",
    "from dno.proto.data import Task, Map\n",
    "from pathlib import Path\n",
    "from sklearn.linear_model import LinearRegression\n",
    "from sklearn.metrics import mean_squared_error"
   ]
  },
  {
   "cell_type": "code",
   "execution_count": 6,
   "metadata": {},
   "outputs": [],
   "source": [
    "task  = 1\n",
    "task_reader = mock.TaskReader(utils.get_task_path(task))"
   ]
  },
  {
   "cell_type": "code",
   "execution_count": 18,
   "metadata": {
    "scrolled": true
   },
   "outputs": [],
   "source": [
    "land_map_dict, tasks, _ = task_reader.read_all()"
   ]
  },
  {
   "cell_type": "code",
   "execution_count": 20,
   "metadata": {},
   "outputs": [],
   "source": [
    "land_map = Map.from_dict(land_map_dict).data"
   ]
  },
  {
   "cell_type": "code",
   "execution_count": 21,
   "metadata": {
    "scrolled": false
   },
   "outputs": [],
   "source": [
    "tasks = list(map(lambda t: Task.from_dict(t['data']), tasks))"
   ]
  },
  {
   "cell_type": "code",
   "execution_count": 22,
   "metadata": {
    "scrolled": true
   },
   "outputs": [
    {
     "data": {
      "text/plain": [
       "[Task(x=1016, y=597, speed=1, psi=180, _psi_cos=-1.0, _psi_sin=1.2246467991473532e-16),\n",
       " Task(x=1016, y=595, speed=1, psi=180, _psi_cos=-1.0, _psi_sin=1.2246467991473532e-16),\n",
       " Task(x=1016, y=594, speed=1, psi=181, _psi_cos=-0.9998476951563913, _psi_sin=-0.017452406437283637),\n",
       " Task(x=1016, y=593, speed=1, psi=181, _psi_cos=-0.9998476951563913, _psi_sin=-0.017452406437283637),\n",
       " Task(x=1016, y=592, speed=1, psi=181, _psi_cos=-0.9998476951563913, _psi_sin=-0.017452406437283637),\n",
       " Task(x=1016, y=590, speed=1, psi=181, _psi_cos=-0.9998476951563913, _psi_sin=-0.017452406437283637),\n",
       " Task(x=1016, y=589, speed=1, psi=181, _psi_cos=-0.9998476951563913, _psi_sin=-0.017452406437283637),\n",
       " Task(x=1016, y=588, speed=1, psi=182, _psi_cos=-0.9993908270190958, _psi_sin=-0.0348994967025009),\n",
       " Task(x=1016, y=587, speed=1, psi=182, _psi_cos=-0.9993908270190958, _psi_sin=-0.0348994967025009),\n",
       " Task(x=1015, y=585, speed=1, psi=182, _psi_cos=-0.9993908270190958, _psi_sin=-0.0348994967025009)]"
      ]
     },
     "execution_count": 22,
     "metadata": {},
     "output_type": "execute_result"
    }
   ],
   "source": [
    "tasks[:10]"
   ]
  },
  {
   "cell_type": "code",
   "execution_count": 23,
   "metadata": {
    "scrolled": false
   },
   "outputs": [
    {
     "name": "stdout",
     "output_type": "stream",
     "text": [
      "0.367834791941548\n"
     ]
    }
   ],
   "source": [
    "mse = 0\n",
    "points_count = 1000\n",
    "for i in range(points_count):\n",
    "    pred_x = (tasks[i].x + tasks[i].vx)\n",
    "    pred_y = (tasks[i].y + tasks[i].vy)\n",
    "    real_x = tasks[i + 1].x\n",
    "    real_y = tasks[i + 1].y\n",
    "#     print(f\"Predicted: {pred_x},{pred_y}; Real: {real_x, real_y}\")\n",
    "    mse += (real_x-pred_x) ** 2 + (real_x-pred_x) ** 2\n",
    "mse /= points_count\n",
    "print(mse)\n"
   ]
  },
  {
   "cell_type": "code",
   "execution_count": 102,
   "metadata": {},
   "outputs": [],
   "source": [
    "# next_coord_train_csv = utils.get_project_root() / 'data/csvs/next_coord_pred_1.csv'\n",
    "# next_coord_pred_csv = utils.get_project_root() / 'data/csvs/next_coord_pred_2.csv'\n",
    "# if not next_coord_pred_csv.exists():\n",
    "#     with open(next_coord_pred_csv, 'w') as csv_file:\n",
    "#         csv_file.writelines(['x,y,vx,vy,next_x,next_y\\n'])\n",
    "#         for i, task in enumerate(tasks[:-1]):\n",
    "#             csv_line = f'{task.x},{task.y},{task.vx},{task.vy},{tasks[i+1].x},{tasks[i+1].y}\\n'\n",
    "#             csv_file.writelines([csv_line])"
   ]
  },
  {
   "cell_type": "code",
   "execution_count": 103,
   "metadata": {},
   "outputs": [],
   "source": [
    "# df = pd.read_csv(next_coord_train_csv)"
   ]
  },
  {
   "cell_type": "code",
   "execution_count": 104,
   "metadata": {
    "scrolled": false
   },
   "outputs": [
    {
     "data": {
      "text/html": [
       "<div>\n",
       "<style scoped>\n",
       "    .dataframe tbody tr th:only-of-type {\n",
       "        vertical-align: middle;\n",
       "    }\n",
       "\n",
       "    .dataframe tbody tr th {\n",
       "        vertical-align: top;\n",
       "    }\n",
       "\n",
       "    .dataframe thead th {\n",
       "        text-align: right;\n",
       "    }\n",
       "</style>\n",
       "<table border=\"1\" class=\"dataframe\">\n",
       "  <thead>\n",
       "    <tr style=\"text-align: right;\">\n",
       "      <th></th>\n",
       "      <th>x</th>\n",
       "      <th>y</th>\n",
       "      <th>vx</th>\n",
       "      <th>vy</th>\n",
       "      <th>next_x</th>\n",
       "      <th>next_y</th>\n",
       "    </tr>\n",
       "  </thead>\n",
       "  <tbody>\n",
       "    <tr>\n",
       "      <th>count</th>\n",
       "      <td>1703.000000</td>\n",
       "      <td>1703.000000</td>\n",
       "      <td>1703.000000</td>\n",
       "      <td>1.703000e+03</td>\n",
       "      <td>1703.000000</td>\n",
       "      <td>1703.000000</td>\n",
       "    </tr>\n",
       "    <tr>\n",
       "      <th>mean</th>\n",
       "      <td>676.204345</td>\n",
       "      <td>597.785085</td>\n",
       "      <td>-0.030623</td>\n",
       "      <td>9.388970e-02</td>\n",
       "      <td>676.204345</td>\n",
       "      <td>597.785672</td>\n",
       "    </tr>\n",
       "    <tr>\n",
       "      <th>std</th>\n",
       "      <td>239.913372</td>\n",
       "      <td>240.053127</td>\n",
       "      <td>0.698109</td>\n",
       "      <td>6.352877e-01</td>\n",
       "      <td>239.913372</td>\n",
       "      <td>240.053126</td>\n",
       "    </tr>\n",
       "    <tr>\n",
       "      <th>min</th>\n",
       "      <td>337.000000</td>\n",
       "      <td>258.000000</td>\n",
       "      <td>-1.000000</td>\n",
       "      <td>-1.000000e+00</td>\n",
       "      <td>337.000000</td>\n",
       "      <td>258.000000</td>\n",
       "    </tr>\n",
       "    <tr>\n",
       "      <th>25%</th>\n",
       "      <td>437.000000</td>\n",
       "      <td>358.000000</td>\n",
       "      <td>-0.707107</td>\n",
       "      <td>-4.539905e-01</td>\n",
       "      <td>437.000000</td>\n",
       "      <td>358.000000</td>\n",
       "    </tr>\n",
       "    <tr>\n",
       "      <th>50%</th>\n",
       "      <td>676.000000</td>\n",
       "      <td>598.000000</td>\n",
       "      <td>0.000000</td>\n",
       "      <td>6.123234e-17</td>\n",
       "      <td>676.000000</td>\n",
       "      <td>598.000000</td>\n",
       "    </tr>\n",
       "    <tr>\n",
       "      <th>75%</th>\n",
       "      <td>915.500000</td>\n",
       "      <td>838.000000</td>\n",
       "      <td>0.707107</td>\n",
       "      <td>7.071068e-01</td>\n",
       "      <td>915.500000</td>\n",
       "      <td>838.000000</td>\n",
       "    </tr>\n",
       "    <tr>\n",
       "      <th>max</th>\n",
       "      <td>1016.000000</td>\n",
       "      <td>937.000000</td>\n",
       "      <td>1.000000</td>\n",
       "      <td>1.000000e+00</td>\n",
       "      <td>1016.000000</td>\n",
       "      <td>937.000000</td>\n",
       "    </tr>\n",
       "  </tbody>\n",
       "</table>\n",
       "</div>"
      ],
      "text/plain": [
       "                 x            y           vx            vy       next_x  \\\n",
       "count  1703.000000  1703.000000  1703.000000  1.703000e+03  1703.000000   \n",
       "mean    676.204345   597.785085    -0.030623  9.388970e-02   676.204345   \n",
       "std     239.913372   240.053127     0.698109  6.352877e-01   239.913372   \n",
       "min     337.000000   258.000000    -1.000000 -1.000000e+00   337.000000   \n",
       "25%     437.000000   358.000000    -0.707107 -4.539905e-01   437.000000   \n",
       "50%     676.000000   598.000000     0.000000  6.123234e-17   676.000000   \n",
       "75%     915.500000   838.000000     0.707107  7.071068e-01   915.500000   \n",
       "max    1016.000000   937.000000     1.000000  1.000000e+00  1016.000000   \n",
       "\n",
       "            next_y  \n",
       "count  1703.000000  \n",
       "mean    597.785672  \n",
       "std     240.053126  \n",
       "min     258.000000  \n",
       "25%     358.000000  \n",
       "50%     598.000000  \n",
       "75%     838.000000  \n",
       "max     937.000000  "
      ]
     },
     "execution_count": 104,
     "metadata": {},
     "output_type": "execute_result"
    }
   ],
   "source": [
    "# df.describe()"
   ]
  },
  {
   "cell_type": "code",
   "execution_count": 105,
   "metadata": {
    "scrolled": true
   },
   "outputs": [],
   "source": [
    "# Cur_coords = df[['x','y','vx','vy']]\n",
    "# Next_x = df['next_x']\n",
    "# Next_y = df['next_y']"
   ]
  },
  {
   "cell_type": "code",
   "execution_count": 106,
   "metadata": {},
   "outputs": [],
   "source": [
    "# x_model = LinearRegression()\n",
    "# y_model = LinearRegression()"
   ]
  },
  {
   "cell_type": "code",
   "execution_count": 107,
   "metadata": {
    "scrolled": false
   },
   "outputs": [
    {
     "data": {
      "text/plain": [
       "LinearRegression(copy_X=True, fit_intercept=True, n_jobs=None,\n",
       "         normalize=False)"
      ]
     },
     "execution_count": 107,
     "metadata": {},
     "output_type": "execute_result"
    }
   ],
   "source": [
    "# x_model.fit(Cur_coords, Next_x)\n",
    "# y_model.fit(Cur_coords, Next_y)"
   ]
  },
  {
   "cell_type": "code",
   "execution_count": 108,
   "metadata": {},
   "outputs": [],
   "source": [
    "# df_test = pd.read_csv(next_coord_pred_csv)\n",
    "# df_test = df_test[(np.abs(df_test['vx']) + np.abs(df_test['vy'])) > 0.001]\n",
    "# Cur_coords_test = df_test[['x','y','vx','vy']]\n",
    "# Next_x_test = df_test['next_x']\n",
    "# Next_y_test = df_test['next_y']"
   ]
  },
  {
   "cell_type": "code",
   "execution_count": 111,
   "metadata": {},
   "outputs": [],
   "source": [
    "# x_pred = Cur_coords_test['x'] + Cur_coords_test['vx']  #x_model.predict(Cur_coords_test)\n",
    "# y_pred = Cur_coords_test['y'] + Cur_coords_test['vy'] #y_model.predict(Cur_coords_test)"
   ]
  },
  {
   "cell_type": "code",
   "execution_count": 113,
   "metadata": {
    "scrolled": true
   },
   "outputs": [
    {
     "name": "stdout",
     "output_type": "stream",
     "text": [
      "X_Mse: 0.23283994275865202, Y_Mse: 0.2910619151374555\n"
     ]
    }
   ],
   "source": [
    "# x_mse = mean_squared_error(x_pred, Next_x_test)\n",
    "# y_mse = mean_squared_error(y_pred, Next_y_test)\n",
    "# print(f'X_Mse: {x_mse}, Y_Mse: {y_mse}')"
   ]
  },
  {
   "cell_type": "code",
   "execution_count": 114,
   "metadata": {
    "scrolled": false
   },
   "outputs": [
    {
     "data": {
      "text/plain": [
       "0.6434108527131783"
      ]
     },
     "execution_count": 114,
     "metadata": {},
     "output_type": "execute_result"
    }
   ],
   "source": [
    "# sum(((Next_x_test-np.round(x_pred)) ** 2 + (Next_y_test-np.round(y_pred)) ** 2)) / len(Next_x_test)"
   ]
  },
  {
   "cell_type": "code",
   "execution_count": 24,
   "metadata": {
    "scrolled": false
   },
   "outputs": [
    {
     "data": {
      "text/plain": [
       "['__annotations__',\n",
       " '__class__',\n",
       " '__dataclass_fields__',\n",
       " '__dataclass_params__',\n",
       " '__delattr__',\n",
       " '__dict__',\n",
       " '__dir__',\n",
       " '__doc__',\n",
       " '__eq__',\n",
       " '__format__',\n",
       " '__ge__',\n",
       " '__getattribute__',\n",
       " '__gt__',\n",
       " '__hash__',\n",
       " '__init__',\n",
       " '__init_subclass__',\n",
       " '__le__',\n",
       " '__lt__',\n",
       " '__module__',\n",
       " '__ne__',\n",
       " '__new__',\n",
       " '__post_init__',\n",
       " '__reduce__',\n",
       " '__reduce_ex__',\n",
       " '__repr__',\n",
       " '__setattr__',\n",
       " '__sizeof__',\n",
       " '__str__',\n",
       " '__subclasshook__',\n",
       " '__weakref__',\n",
       " '_psi_cos',\n",
       " '_psi_sin',\n",
       " 'from_dict',\n",
       " 'psi',\n",
       " 'speed',\n",
       " 'to_dict',\n",
       " 'vx',\n",
       " 'vy',\n",
       " 'x',\n",
       " 'y']"
      ]
     },
     "execution_count": 24,
     "metadata": {},
     "output_type": "execute_result"
    }
   ],
   "source": [
    "dir(tasks[0])"
   ]
  },
  {
   "cell_type": "code",
   "execution_count": null,
   "metadata": {
    "scrolled": false
   },
   "outputs": [],
   "source": []
  },
  {
   "cell_type": "code",
   "execution_count": null,
   "metadata": {},
   "outputs": [],
   "source": []
  }
 ],
 "metadata": {
  "kernelspec": {
   "display_name": "Python 3",
   "language": "python",
   "name": "python3"
  },
  "language_info": {
   "codemirror_mode": {
    "name": "ipython",
    "version": 3
   },
   "file_extension": ".py",
   "mimetype": "text/x-python",
   "name": "python",
   "nbconvert_exporter": "python",
   "pygments_lexer": "ipython3",
   "version": "3.7.1"
  }
 },
 "nbformat": 4,
 "nbformat_minor": 2
}
